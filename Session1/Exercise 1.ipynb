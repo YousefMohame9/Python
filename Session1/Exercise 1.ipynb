{
 "cells": [
  {
   "cell_type": "markdown",
   "id": "7a5b3703",
   "metadata": {},
   "source": [
    "# <h1 align = \"center\"><font color=Green>Python Fundamentals Exercise 01 </font></h1>"
   ]
  },
  {
   "cell_type": "markdown",
   "id": "595a57aa",
   "metadata": {},
   "source": [
    "<h3 align = \"center\"><font color=Green>Solve the following questions </font></h1>"
   ]
  },
  {
   "cell_type": "markdown",
   "id": "0b7c66d5",
   "metadata": {},
   "source": [
    "### question 1\n",
    "\n",
    ">\n",
    "> Create a summation calculator that takes two values from a user and print the summation of those two values.\n",
    "\n",
    "    Example\n",
    ">input\n",
    ">\n",
    "> x = 5\n",
    ">\n",
    "> y = 6\n",
    "\n",
    "\n",
    ">output\n",
    ">\n",
    ">z = 11\n"
   ]
  },
  {
   "cell_type": "code",
   "execution_count": 2,
   "id": "898e6c7e",
   "metadata": {},
   "outputs": [],
   "source": [
    "X=5\n",
    "Y=6"
   ]
  },
  {
   "cell_type": "code",
   "execution_count": 3,
   "id": "02c1a870-fac5-4b37-a443-01654c6b4c2a",
   "metadata": {},
   "outputs": [
    {
     "name": "stdout",
     "output_type": "stream",
     "text": [
      "11\n"
     ]
    }
   ],
   "source": [
    "print(X+Y)"
   ]
  },
  {
   "cell_type": "markdown",
   "id": "462ba485",
   "metadata": {},
   "source": [
    "### question 2\n",
    "\n",
    ">\n",
    "> Create a subtraction calculator that takes two values from a user and print the subtraction of those two values.\n",
    "\n",
    "    Example\n",
    ">input\n",
    ">\n",
    "> x = 5\n",
    ">\n",
    "> y = 6\n",
    "\n",
    "\n",
    ">output\n",
    ">\n",
    ">z = 1\n"
   ]
  },
  {
   "cell_type": "code",
   "execution_count": 4,
   "id": "0374f2b8",
   "metadata": {},
   "outputs": [],
   "source": [
    "X=5\n",
    "Y=6"
   ]
  },
  {
   "cell_type": "code",
   "execution_count": 5,
   "id": "10f3e99e-3afb-44dd-8235-940dbaf42fba",
   "metadata": {},
   "outputs": [
    {
     "name": "stdout",
     "output_type": "stream",
     "text": [
      "1\n"
     ]
    }
   ],
   "source": [
    "print(Y-X)"
   ]
  },
  {
   "cell_type": "markdown",
   "id": "72e2ba2d",
   "metadata": {},
   "source": [
    "***"
   ]
  },
  {
   "cell_type": "markdown",
   "id": "155f7305",
   "metadata": {},
   "source": [
    "### question 3\n",
    "\n",
    ">\n",
    "> Create a division calculator that takes two values from a user and print two values \n",
    "> - The division of those two values.\n",
    "> - The division of those two values as an integer.\n",
    "\n",
    "    Example 1\n",
    ">input\n",
    ">\n",
    "> x = 10\n",
    ">\n",
    "> y = 2\n",
    "\n",
    "\n",
    ">output\n",
    ">\n",
    ">z = 5\n",
    "\n",
    "    Example 2\n",
    ">input\n",
    ">\n",
    "> x = 11\n",
    ">\n",
    "> y = 2\n",
    "\n",
    "\n",
    ">output\n",
    ">\n",
    ">z = 5"
   ]
  },
  {
   "cell_type": "code",
   "execution_count": null,
   "id": "a3cd876b-e78e-4879-8203-12f6a5e74708",
   "metadata": {},
   "outputs": [],
   "source": [
    "x=10\n",
    "y=2"
   ]
  },
  {
   "cell_type": "code",
   "execution_count": 18,
   "id": "65c814dd-c87f-4b73-b995-3c06357ab73a",
   "metadata": {},
   "outputs": [
    {
     "ename": "NameError",
     "evalue": "name 'x' is not defined",
     "output_type": "error",
     "traceback": [
      "\u001b[1;31m---------------------------------------------------------------------------\u001b[0m",
      "\u001b[1;31mNameError\u001b[0m                                 Traceback (most recent call last)",
      "Cell \u001b[1;32mIn[18], line 1\u001b[0m\n\u001b[1;32m----> 1\u001b[0m \u001b[38;5;28mprint\u001b[39m(\u001b[43mx\u001b[49m\u001b[38;5;241m/\u001b[39my)\n",
      "\u001b[1;31mNameError\u001b[0m: name 'x' is not defined"
     ]
    }
   ],
   "source": [
    "print(x/y)"
   ]
  },
  {
   "cell_type": "markdown",
   "id": "a22d4269",
   "metadata": {},
   "source": [
    "***"
   ]
  },
  {
   "cell_type": "markdown",
   "id": "46224617",
   "metadata": {},
   "source": [
    "### question 4\n",
    "\n",
    "> Create a calculator takes three values\n",
    "> - x \"First input number\"\n",
    "> - y \"second input number\"\n",
    "> - operation \"Third input number\"\n",
    ">\n",
    "> make sure to apply the requested operation as needed.\n",
    "> if the operation is outside your defined choices you have to print a warning message\n",
    "\n",
    "    Example 1\n",
    ">input\n",
    ">\n",
    "> x = 5\n",
    ">\n",
    "> y = 6\n",
    ">\n",
    "> operation = sum or +\n",
    ">\n",
    "\n",
    ">output\n",
    ">\n",
    ">z = 11\n",
    "\n",
    "    Example 2\n",
    ">input\n",
    ">\n",
    "> x = 5\n",
    ">\n",
    "> y = 6\n",
    ">\n",
    "> operation = subtract or -\n",
    ">\n",
    "\n",
    ">output\n",
    ">\n",
    ">z = 1\n",
    " \n",
    "    Example 3\n",
    ">input\n",
    ">\n",
    "> x = 5\n",
    ">\n",
    "> y = 6\n",
    ">\n",
    "> operation = multiplication or *\n",
    ">\n",
    "\n",
    ">output\n",
    ">\n",
    ">z = 30\n",
    "\n",
    "    Example 4\n",
    ">input\n",
    ">\n",
    "> x = 50\n",
    ">\n",
    "> y = 10\n",
    ">\n",
    "> operation = division or /\n",
    ">\n",
    "\n",
    ">output\n",
    ">\n",
    ">z = 5\n"
   ]
  },
  {
   "cell_type": "code",
   "execution_count": 20,
   "id": "9455b13e",
   "metadata": {},
   "outputs": [],
   "source": [
    "x=5\n",
    "y=6\n",
    "z=x+y"
   ]
  },
  {
   "cell_type": "code",
   "execution_count": 21,
   "id": "87e4f59c-b8d2-433b-b347-1674908b4818",
   "metadata": {},
   "outputs": [
    {
     "name": "stdout",
     "output_type": "stream",
     "text": [
      "11\n"
     ]
    }
   ],
   "source": [
    "print(z)"
   ]
  },
  {
   "cell_type": "markdown",
   "id": "d984bfac",
   "metadata": {},
   "source": [
    "***"
   ]
  },
  {
   "cell_type": "markdown",
   "id": "b06e3f87",
   "metadata": {},
   "source": [
    "### question 5\n",
    "\n",
    "> Create a calculator takes three values\n",
    "> - x \"First input number\"\n",
    "> - y \"second input number\"\n",
    "> - operation \"Third input\"\n",
    ">\n",
    "> You have to apply as many needed operation, until the user enter closing message \"finish or end\"\n",
    ">\n",
    "> Make sure to apply the requested operation as needed.\n",
    "> If the operation is outside your defined choices you have to print a warning message\n",
    "\n",
    "    Example 1\n",
    ">input\n",
    ">\n",
    "> x = 5\n",
    ">\n",
    "> y = 6\n",
    ">\n",
    "> operation = sum or +\n",
    ">\n",
    "\n",
    ">output\n",
    ">\n",
    ">z = 11\n",
    "\n",
    "    Example 2\n",
    ">input\n",
    ">\n",
    "> x = 5\n",
    ">\n",
    "> y = 6\n",
    ">\n",
    "> operation = subtract or -\n",
    ">\n",
    "\n",
    ">output\n",
    ">\n",
    ">z = 1\n",
    " \n",
    "    Example 3\n",
    ">input\n",
    ">\n",
    "> x = 5\n",
    ">\n",
    "> y = 6\n",
    ">\n",
    "> operation = multiplication or *\n",
    ">\n",
    "\n",
    ">output\n",
    ">\n",
    ">z = 30\n",
    "\n",
    "    Example 4\n",
    ">input\n",
    ">\n",
    "> x = 50\n",
    ">\n",
    "> y = 10\n",
    ">\n",
    "> operation = division or /\n",
    ">\n",
    "\n",
    ">output\n",
    ">\n",
    ">z = 5\n"
   ]
  },
  {
   "cell_type": "code",
   "execution_count": 26,
   "id": "e4347234",
   "metadata": {},
   "outputs": [
    {
     "name": "stdin",
     "output_type": "stream",
     "text": [
      "66 y\n"
     ]
    }
   ],
   "source": [
    "x = input(y*z)\n",
    "y= 5\n",
    "z= 6"
   ]
  },
  {
   "cell_type": "code",
   "execution_count": 27,
   "id": "5fdd4dc4-d67e-4fa8-9103-379c946f753f",
   "metadata": {},
   "outputs": [
    {
     "name": "stdout",
     "output_type": "stream",
     "text": [
      "y\n"
     ]
    }
   ],
   "source": [
    "print(x)"
   ]
  },
  {
   "cell_type": "markdown",
   "id": "eb8f30d8",
   "metadata": {},
   "source": [
    "***"
   ]
  },
  {
   "cell_type": "markdown",
   "id": "f890ca5b-8f6b-4dc8-9a4b-e1b1590b8831",
   "metadata": {},
   "source": [
    "### Question 6\n",
    "\n",
    "Write python script to print the following shape\n",
    "                "
   ]
  },
  {
   "cell_type": "code",
   "execution_count": null,
   "id": "c4c23da3-b578-4b0a-b313-a4fc739371d0",
   "metadata": {},
   "outputs": [],
   "source": [
    "******************\n",
    "   ***************\n",
    "      ************\n",
    "         *********\n",
    "            ******\n",
    "               ***"
   ]
  },
  {
   "cell_type": "code",
   "execution_count": 36,
   "id": "3c85f99e-8403-4154-a696-ff2cf02c4c0a",
   "metadata": {},
   "outputs": [
    {
     "ename": "SyntaxError",
     "evalue": "unterminated string literal (detected at line 6); perhaps you escaped the end quote? (4053855907.py, line 1)",
     "output_type": "error",
     "traceback": [
      "\u001b[1;36m  Cell \u001b[1;32mIn[36], line 1\u001b[1;36m\u001b[0m\n\u001b[1;33m    print(\"****************** .n\\\u001b[0m\n\u001b[1;37m          ^\u001b[0m\n\u001b[1;31mSyntaxError\u001b[0m\u001b[1;31m:\u001b[0m unterminated string literal (detected at line 6); perhaps you escaped the end quote?\n"
     ]
    }
   ],
   "source": [
    "print(\"****************** .n\\\n",
    "       *************** .n\\\n",
    "       ************ .n\\\n",
    "         ********* .n\\\n",
    "            ****** .n\\\n",
    "               *** .n\\\")"
   ]
  },
  {
   "cell_type": "markdown",
   "id": "45d6fbcb-f237-49ba-bca1-87e31e8c0993",
   "metadata": {},
   "source": [
    "### Question 7\n",
    "Write python script to print the following shape"
   ]
  },
  {
   "cell_type": "code",
   "execution_count": null,
   "id": "81700e77-30da-4ce2-93e4-f45ee432a93a",
   "metadata": {},
   "outputs": [],
   "source": [
    "\n",
    "***\n",
    "******\n",
    "*********\n",
    "************\n",
    "***************"
   ]
  },
  {
   "cell_type": "markdown",
   "id": "420c5259-c071-4883-9d7f-96b72c2263fd",
   "metadata": {},
   "source": [
    "### Question 8\n",
    "Write python script to print the following shape"
   ]
  },
  {
   "cell_type": "code",
   "execution_count": null,
   "id": "3c80cbe6-1017-491b-a7f6-1520c4f56b15",
   "metadata": {},
   "outputs": [],
   "source": [
    "            *             \n",
    "           ***\n",
    "          *****\n",
    "         *******\n",
    "        *********"
   ]
  },
  {
   "cell_type": "markdown",
   "id": "ee35ca5f-9541-4529-9d71-b0ccd5c5adee",
   "metadata": {},
   "source": [
    "****************"
   ]
  },
  {
   "cell_type": "markdown",
   "id": "004ecfc4",
   "metadata": {},
   "source": [
    "***"
   ]
  },
  {
   "cell_type": "markdown",
   "id": "ebd9abc6-802a-41bb-b917-7148de8f84bf",
   "metadata": {},
   "source": [
    "### question 10\n",
    "\n",
    "Create a random password generator with the following conditions:\n",
    " - Has to be at least 10 characters\n",
    " - Has to have one or more of the special characters\n",
    " - Has to have combination of lower and upper cases letters\n",
    " - Has to have numbers"
   ]
  },
  {
   "cell_type": "code",
   "execution_count": null,
   "id": "ebdcd71f-8e2b-4348-a91a-944da0c597d1",
   "metadata": {},
   "outputs": [],
   "source": [
    "# Your code goes here\n"
   ]
  },
  {
   "cell_type": "markdown",
   "id": "b9004989-2328-4d08-95f5-93cd3ab30f41",
   "metadata": {},
   "source": [
    "# Ensure it has at least one character of each"
   ]
  },
  {
   "cell_type": "markdown",
   "id": "8c29b8e9-4ca3-47d2-aa76-d50c9d92bde2",
   "metadata": {},
   "source": [
    "# Using string module"
   ]
  },
  {
   "cell_type": "code",
   "execution_count": null,
   "id": "f6207ebd-818b-4c90-aa16-a9baf0664372",
   "metadata": {},
   "outputs": [],
   "source": []
  }
 ],
 "metadata": {
  "kernelspec": {
   "display_name": "Python 3 (ipykernel)",
   "language": "python",
   "name": "python3"
  },
  "language_info": {
   "codemirror_mode": {
    "name": "ipython",
    "version": 3
   },
   "file_extension": ".py",
   "mimetype": "text/x-python",
   "name": "python",
   "nbconvert_exporter": "python",
   "pygments_lexer": "ipython3",
   "version": "3.13.2"
  }
 },
 "nbformat": 4,
 "nbformat_minor": 5
}
